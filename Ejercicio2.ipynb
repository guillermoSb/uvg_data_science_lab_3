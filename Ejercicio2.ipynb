{
 "cells": [
  {
   "cell_type": "code",
   "execution_count": 48,
   "metadata": {},
   "outputs": [],
   "source": [
    "import random\n",
    "import sklearn\n",
    "import numpy as np\n",
    "import pandas as pd\n",
    "import tensorflow as tf\n",
    "from sklearn.preprocessing import StandardScaler\n",
    "from sklearn.model_selection import train_test_split\n",
    "from keras.models import Sequential\n",
    "from keras.layers import Dense\n",
    "from keras.layers import LSTM\n",
    "import matplotlib.pyplot as plt"
   ]
  },
  {
   "cell_type": "code",
   "execution_count": 49,
   "metadata": {},
   "outputs": [
    {
     "data": {
      "text/html": [
       "<div>\n",
       "<style scoped>\n",
       "    .dataframe tbody tr th:only-of-type {\n",
       "        vertical-align: middle;\n",
       "    }\n",
       "\n",
       "    .dataframe tbody tr th {\n",
       "        vertical-align: top;\n",
       "    }\n",
       "\n",
       "    .dataframe thead th {\n",
       "        text-align: right;\n",
       "    }\n",
       "</style>\n",
       "<table border=\"1\" class=\"dataframe\">\n",
       "  <thead>\n",
       "    <tr style=\"text-align: right;\">\n",
       "      <th></th>\n",
       "      <th>diesel</th>\n",
       "      <th>year</th>\n",
       "      <th>month</th>\n",
       "      <th>day</th>\n",
       "    </tr>\n",
       "  </thead>\n",
       "  <tbody>\n",
       "    <tr>\n",
       "      <th>0</th>\n",
       "      <td>302350.02</td>\n",
       "      <td>2001</td>\n",
       "      <td>7</td>\n",
       "      <td>1</td>\n",
       "    </tr>\n",
       "    <tr>\n",
       "      <th>1</th>\n",
       "      <td>464159.13</td>\n",
       "      <td>2001</td>\n",
       "      <td>8</td>\n",
       "      <td>1</td>\n",
       "    </tr>\n",
       "    <tr>\n",
       "      <th>2</th>\n",
       "      <td>321952.94</td>\n",
       "      <td>2001</td>\n",
       "      <td>9</td>\n",
       "      <td>1</td>\n",
       "    </tr>\n",
       "    <tr>\n",
       "      <th>3</th>\n",
       "      <td>438989.55</td>\n",
       "      <td>2001</td>\n",
       "      <td>10</td>\n",
       "      <td>1</td>\n",
       "    </tr>\n",
       "    <tr>\n",
       "      <th>4</th>\n",
       "      <td>440245.35</td>\n",
       "      <td>2001</td>\n",
       "      <td>11</td>\n",
       "      <td>1</td>\n",
       "    </tr>\n",
       "  </tbody>\n",
       "</table>\n",
       "</div>"
      ],
      "text/plain": [
       "      diesel  year  month  day\n",
       "0  302350.02  2001      7    1\n",
       "1  464159.13  2001      8    1\n",
       "2  321952.94  2001      9    1\n",
       "3  438989.55  2001     10    1\n",
       "4  440245.35  2001     11    1"
      ]
     },
     "execution_count": 49,
     "metadata": {},
     "output_type": "execute_result"
    }
   ],
   "source": [
    "data_diesel = pd.read_csv('data/data_diesel.csv', sep=',')\n",
    "data_diesel.head()"
   ]
  },
  {
   "cell_type": "markdown",
   "metadata": {},
   "source": [
    "### Conjuntos de entrenamiento y prueba"
   ]
  },
  {
   "cell_type": "code",
   "execution_count": 50,
   "metadata": {},
   "outputs": [
    {
     "data": {
      "text/plain": [
       "RandomState(MT19937) at 0x2AF723D40"
      ]
     },
     "execution_count": 50,
     "metadata": {},
     "output_type": "execute_result"
    }
   ],
   "source": [
    "X = data_diesel[['year', 'month', 'day']]\n",
    "y = data_diesel[['diesel']]\n",
    "scaler = StandardScaler()\n",
    "y = scaler.fit_transform(y.values.reshape(-1, 1))\n",
    "X = np.asarray(X)\n",
    "y = np.asarray(y)\n",
    "\n",
    "X_train, X_test, y_train, y_test = train_test_split(X, y, test_size=0.3, shuffle=False)\n",
    "y_test = scaler.inverse_transform(y_test)\n",
    "seed_value = 2302\n",
    "tf.random.set_seed(seed_value)\n",
    "np.random.seed(seed_value)\n",
    "random.seed(seed_value)\n",
    "sklearn.utils.check_random_state(seed_value)"
   ]
  },
  {
   "cell_type": "code",
   "execution_count": 51,
   "metadata": {},
   "outputs": [],
   "source": [
    "X_train = X_train.reshape((X_train.shape[0], 1, X_train.shape[1]))\n",
    "X_test = X_test.reshape((X_test.shape[0], 1, X_test.shape[1]))"
   ]
  },
  {
   "cell_type": "code",
   "execution_count": 52,
   "metadata": {},
   "outputs": [
    {
     "name": "stdout",
     "output_type": "stream",
     "text": [
      "Model: \"sequential_5\"\n",
      "_________________________________________________________________\n",
      " Layer (type)                Output Shape              Param #   \n",
      "=================================================================\n",
      " lstm_5 (LSTM)               (1, 1)                    20        \n",
      "                                                                 \n",
      " dense_5 (Dense)             (1, 1)                    2         \n",
      "                                                                 \n",
      "=================================================================\n",
      "Total params: 22 (88.00 Byte)\n",
      "Trainable params: 22 (88.00 Byte)\n",
      "Non-trainable params: 0 (0.00 Byte)\n",
      "_________________________________________________________________\n"
     ]
    }
   ],
   "source": [
    "modelo1 = Sequential()\n",
    "lote = 1\n",
    "paso = 1\n",
    "caracteristicas = 3\n",
    "modelo1.add(LSTM(lote, batch_input_shape=(lote, paso, caracteristicas), stateful=True))\n",
    "modelo1.add(Dense(1))\n",
    "modelo1.summary()"
   ]
  },
  {
   "cell_type": "code",
   "execution_count": 53,
   "metadata": {},
   "outputs": [],
   "source": [
    "modelo1.compile(loss='mean_squared_error',optimizer=\"rmsprop\")"
   ]
  },
  {
   "cell_type": "code",
   "execution_count": 54,
   "metadata": {},
   "outputs": [
    {
     "name": "stdout",
     "output_type": "stream",
     "text": [
      "Epoch 1/50\n",
      "184/184 [==============================] - 1s 2ms/step - loss: 0.8231 - val_loss: 1268731478016.0000\n",
      "Epoch 2/50\n",
      "184/184 [==============================] - 0s 856us/step - loss: 0.7895 - val_loss: 1268731478016.0000\n",
      "Epoch 3/50\n",
      "184/184 [==============================] - 0s 801us/step - loss: 0.7658 - val_loss: 1268731478016.0000\n",
      "Epoch 4/50\n",
      "184/184 [==============================] - 0s 812us/step - loss: 0.7492 - val_loss: 1268731740160.0000\n",
      "Epoch 5/50\n",
      "184/184 [==============================] - 0s 901us/step - loss: 0.7376 - val_loss: 1268731740160.0000\n",
      "Epoch 6/50\n",
      "184/184 [==============================] - 0s 864us/step - loss: 0.7295 - val_loss: 1268731740160.0000\n",
      "Epoch 7/50\n",
      "184/184 [==============================] - 0s 855us/step - loss: 0.7239 - val_loss: 1268731740160.0000\n",
      "Epoch 8/50\n",
      "184/184 [==============================] - 0s 811us/step - loss: 0.7200 - val_loss: 1268731740160.0000\n",
      "Epoch 9/50\n",
      "184/184 [==============================] - 0s 799us/step - loss: 0.7173 - val_loss: 1268731740160.0000\n",
      "Epoch 10/50\n",
      "184/184 [==============================] - 0s 798us/step - loss: 0.7154 - val_loss: 1268731740160.0000\n",
      "Epoch 11/50\n",
      "184/184 [==============================] - 0s 795us/step - loss: 0.7141 - val_loss: 1268732002304.0000\n",
      "Epoch 12/50\n",
      "184/184 [==============================] - 0s 798us/step - loss: 0.7131 - val_loss: 1268732002304.0000\n",
      "Epoch 13/50\n",
      "184/184 [==============================] - 0s 797us/step - loss: 0.7125 - val_loss: 1268732002304.0000\n",
      "Epoch 14/50\n",
      "184/184 [==============================] - 0s 792us/step - loss: 0.7120 - val_loss: 1268732002304.0000\n",
      "Epoch 15/50\n",
      "184/184 [==============================] - 0s 804us/step - loss: 0.7117 - val_loss: 1268732002304.0000\n",
      "Epoch 16/50\n",
      "184/184 [==============================] - 0s 855us/step - loss: 0.7115 - val_loss: 1268732002304.0000\n",
      "Epoch 17/50\n",
      "184/184 [==============================] - 0s 1ms/step - loss: 0.7113 - val_loss: 1268732002304.0000\n",
      "Epoch 18/50\n",
      "184/184 [==============================] - 0s 931us/step - loss: 0.7112 - val_loss: 1268732002304.0000\n",
      "Epoch 19/50\n",
      "184/184 [==============================] - 0s 833us/step - loss: 0.7111 - val_loss: 1268732002304.0000\n",
      "Epoch 20/50\n",
      "184/184 [==============================] - 0s 806us/step - loss: 0.7110 - val_loss: 1268732002304.0000\n",
      "Epoch 21/50\n",
      "184/184 [==============================] - 0s 821us/step - loss: 0.7109 - val_loss: 1268732002304.0000\n",
      "Epoch 22/50\n",
      "184/184 [==============================] - 0s 793us/step - loss: 0.7109 - val_loss: 1268732002304.0000\n",
      "Epoch 23/50\n",
      "184/184 [==============================] - 0s 787us/step - loss: 0.7109 - val_loss: 1268732002304.0000\n",
      "Epoch 24/50\n",
      "184/184 [==============================] - 0s 785us/step - loss: 0.7108 - val_loss: 1268732002304.0000\n",
      "Epoch 25/50\n",
      "184/184 [==============================] - 0s 795us/step - loss: 0.7108 - val_loss: 1268732002304.0000\n",
      "Epoch 26/50\n",
      "184/184 [==============================] - 0s 831us/step - loss: 0.7108 - val_loss: 1268732002304.0000\n",
      "Epoch 27/50\n",
      "184/184 [==============================] - 0s 790us/step - loss: 0.7108 - val_loss: 1268732002304.0000\n",
      "Epoch 28/50\n",
      "184/184 [==============================] - 0s 794us/step - loss: 0.7108 - val_loss: 1268732002304.0000\n",
      "Epoch 29/50\n",
      "184/184 [==============================] - 0s 799us/step - loss: 0.7108 - val_loss: 1268732002304.0000\n",
      "Epoch 30/50\n",
      "184/184 [==============================] - 0s 793us/step - loss: 0.7108 - val_loss: 1268732002304.0000\n",
      "Epoch 31/50\n",
      "184/184 [==============================] - 0s 848us/step - loss: 0.7108 - val_loss: 1268732002304.0000\n",
      "Epoch 32/50\n",
      "184/184 [==============================] - 0s 794us/step - loss: 0.7108 - val_loss: 1268732002304.0000\n",
      "Epoch 33/50\n",
      "184/184 [==============================] - 0s 789us/step - loss: 0.7108 - val_loss: 1268732002304.0000\n",
      "Epoch 34/50\n",
      "184/184 [==============================] - 0s 787us/step - loss: 0.7108 - val_loss: 1268732002304.0000\n",
      "Epoch 35/50\n",
      "184/184 [==============================] - 0s 787us/step - loss: 0.7107 - val_loss: 1268732002304.0000\n",
      "Epoch 36/50\n",
      "184/184 [==============================] - 0s 783us/step - loss: 0.7107 - val_loss: 1268732002304.0000\n",
      "Epoch 37/50\n",
      "184/184 [==============================] - 0s 791us/step - loss: 0.7107 - val_loss: 1268732002304.0000\n",
      "Epoch 38/50\n",
      "184/184 [==============================] - 0s 788us/step - loss: 0.7107 - val_loss: 1268732002304.0000\n",
      "Epoch 39/50\n",
      "184/184 [==============================] - 0s 802us/step - loss: 0.7107 - val_loss: 1268732002304.0000\n",
      "Epoch 40/50\n",
      "184/184 [==============================] - 0s 794us/step - loss: 0.7107 - val_loss: 1268732002304.0000\n",
      "Epoch 41/50\n",
      "184/184 [==============================] - 0s 786us/step - loss: 0.7107 - val_loss: 1268732002304.0000\n",
      "Epoch 42/50\n",
      "184/184 [==============================] - 0s 789us/step - loss: 0.7107 - val_loss: 1268732002304.0000\n",
      "Epoch 43/50\n",
      "184/184 [==============================] - 0s 787us/step - loss: 0.7107 - val_loss: 1268732002304.0000\n",
      "Epoch 44/50\n",
      "184/184 [==============================] - 0s 788us/step - loss: 0.7107 - val_loss: 1268732002304.0000\n",
      "Epoch 45/50\n",
      "184/184 [==============================] - 0s 779us/step - loss: 0.7107 - val_loss: 1268732002304.0000\n",
      "Epoch 46/50\n",
      "184/184 [==============================] - 0s 845us/step - loss: 0.7107 - val_loss: 1268732002304.0000\n",
      "Epoch 47/50\n",
      "184/184 [==============================] - 0s 786us/step - loss: 0.7107 - val_loss: 1268732002304.0000\n",
      "Epoch 48/50\n",
      "184/184 [==============================] - 0s 787us/step - loss: 0.7107 - val_loss: 1268732002304.0000\n",
      "Epoch 49/50\n",
      "184/184 [==============================] - 0s 780us/step - loss: 0.7107 - val_loss: 1268732002304.0000\n",
      "Epoch 50/50\n",
      "184/184 [==============================] - 0s 784us/step - loss: 0.7107 - val_loss: 1268732002304.0000\n"
     ]
    }
   ],
   "source": [
    "epocas = 50\n",
    "history = modelo1.fit(\n",
    "    x = X_train,\n",
    "    y = y_train,\n",
    "    batch_size = lote,\n",
    "    epochs = epocas,\n",
    "    shuffle = False,\n",
    "    validation_data = (X_test, y_test),\n",
    "    verbose=1\n",
    ")"
   ]
  },
  {
   "cell_type": "code",
   "execution_count": 55,
   "metadata": {},
   "outputs": [
    {
     "data": {
      "text/plain": [
       "<matplotlib.legend.Legend at 0x2b0f0c650>"
      ]
     },
     "execution_count": 55,
     "metadata": {},
     "output_type": "execute_result"
    },
    {
     "data": {
      "image/png": "[encoded data removed]",
      "text/plain": [
       "<Figure size 640x480 with 1 Axes>"
      ]
     },
     "metadata": {},
     "output_type": "display_data"
    }
   ],
   "source": [
    "plt.plot(history.history['loss'])\n",
    "plt.plot(history.history['val_loss'])\n",
    "plt.title('model loss')\n",
    "plt.ylabel('loss')\n",
    "plt.xlabel('epoch')\n",
    "plt.legend(['train', 'val'], loc='center')"
   ]
  }
 ],
 "metadata": {
  "kernelspec": {
   "display_name": "Python 3",
   "language": "python",
   "name": "python3"
  },
  "language_info": {
   "codemirror_mode": {
    "name": "ipython",
    "version": 3
   },
   "file_extension": ".py",
   "mimetype": "text/x-python",
   "name": "python",
   "nbconvert_exporter": "python",
   "pygments_lexer": "ipython3",
   "version": "3.11.3"
  },
  "orig_nbformat": 4
 },
 "nbformat": 4,
 "nbformat_minor": 2
}
